{
  "nbformat": 4,
  "nbformat_minor": 0,
  "metadata": {
    "colab": {
      "name": "quiz2_vnaga1.ipynb",
      "version": "0.3.2",
      "provenance": [],
      "collapsed_sections": []
    },
    "kernelspec": {
      "name": "python3",
      "display_name": "Python 3"
    }
  },
  "cells": [
    {
      "cell_type": "code",
      "metadata": {
        "id": "7ZX1rj3mAx4H",
        "colab_type": "code",
        "colab": {}
      },
      "source": [
        ""
      ],
      "execution_count": 0,
      "outputs": []
    },
    {
      "cell_type": "markdown",
      "metadata": {
        "id": "YLhK5QFeB1j1",
        "colab_type": "text"
      },
      "source": [
        "Question 1:\n",
        "\n",
        "$$ \\sum_{i=1}^{n}(Y_i-\\beta_1X_{i1}-\\beta_2X_{i2}-...\\beta_pX_{ip}$$\n",
        "\n",
        "As given in the question, we can break up the large sum into smaller sums and simplify the equation because each $X_{ik}$ can be defined as an indicator function $X_{ik} = I(i \\in G_k)$ \n",
        "\n",
        "Thus we can rewrite the sum:\n",
        "\n",
        "$$ \\sum_{i\\in G_1}(Y_i-\\beta_1X_{i1})^2 + \\sum_{i\\in G_2} (Y_i-\\beta_2X_{i2})^2 + ... +\\sum_{i\\in G_p}(Y_i-\\beta_pX_{ip})^2 $$\n",
        "\n",
        "Now, we know that for all i in $G_1$, $X_i$ is assigned the value 1.\n",
        "\n",
        "Thus:\n",
        "$$ \\sum_{i\\in G_1}(Y_i-\\beta_1)^2 + \\sum_{i\\in G_2} (Y_i-\\beta_2)^2 + ... +\\sum_{i\\in G_p}(Y_i-\\beta_p)^2 $$\n",
        "\n",
        "We can then evaluate the sum for the kth group:\n",
        "\n",
        "$$ \\sum_{i\\in G_k}(Y_i-\\beta_k)^2$$\n",
        "\n",
        "After differentiating with respect to $\\beta_k$:\n",
        "\n",
        "$$ 2*\\sum_{i\\in G_k}(Y_i-\\beta_k) = 0$$\n",
        "\n",
        "$$ \\sum_{i\\in G_k}(Y_i-\\beta_k) = 0$$\n",
        "\n",
        "Since $\\beta_k$ does not deped on $i$, we can take it out of the sum\n",
        "\n",
        "$$ (\\sum_{i\\in G_k}Y_i) - \\beta_k\\sum_{i\\in G_k}1 = 0$$\n",
        "\n",
        "Thus, \n",
        "\n",
        "$$ \\sum_{i\\in G_k}Y_i = \\beta_kn_k $$\n",
        "\n",
        "$$ \\frac{\\sum_{i\\in G_k}Y_i} {n_k} = \\bar Y^{(k)} $$"
      ]
    },
    {
      "cell_type": "code",
      "metadata": {
        "id": "nikvAVFUH0m6",
        "colab_type": "code",
        "outputId": "0e629873-b065-46b8-88d2-eea62d62a0fb",
        "colab": {
          "base_uri": "https://localhost:8080/",
          "height": 558
        }
      },
      "source": [
        "#Question 2\n",
        "\n",
        "import pandas as pd\n",
        "import numpy as np\n",
        "import seaborn as sns\n",
        "from scipy import stats as st\n",
        "import matplotlib.pyplot as plt\n",
        "\n",
        "#import the data\n",
        "! if [ ! -e kirby127a_3_1_ax_283Labels_M2_corrected_stats.csv ] ; \\\n",
        "  then wget https://raw.githubusercontent.com/bcaffo/ds4bme_intro/master/data/kirby21.csv; \\\n",
        "fi\n",
        "data = pd.read_csv(\"https://raw.githubusercontent.com/bcaffo/ds4bme_intro/master/data/kirby21.csv\")\n",
        "\n",
        "#locate the diencephalon rows and extract their volumes\n",
        "data = data.loc[((data.roi == \"Diencephalon_L\") | (data.roi == \"Diencephalon_R\")) & (data.type == 1) & (data.level == 1)]\n",
        "leftvals = data[data['roi'] == 'Diencephalon_L'].iloc[:]['volume'].values\n",
        "rightvals = data[data['roi'] == 'Diencephalon_R'].iloc[:]['volume'].values\n",
        "\n",
        "#plots the scatter plot with the extracted values\n",
        "plt.scatter(rightvals,leftvals)\n",
        "plt.xlabel('Diencephalon R Volume')\n",
        "plt.ylabel('Diencephalon L Volume')\n",
        "\n",
        "#computes the regression fit and graphs the regression line\n",
        "print(st.linregress(x = rightvals, y = leftvals))\n",
        "b1 = st.pearsonr(rightvals, leftvals)[0] * np.std(leftvals) / np.std(rightvals)\n",
        "b0 = np.mean(leftvals) - np.mean(rightvals) * b1\n",
        "print('Beta1 = ' + str(b1))\n",
        "print('Beta0 = ' + str(b0))\n",
        "sns.lineplot(rightvals, b0 + b1 * rightvals)\n",
        "\n",
        "#computes the in sample error rate\n",
        "error = 0\n",
        "for ii in range(len(rightvals)):\n",
        "  error = error + np.power((leftvals[ii]-b0-(b1*rightvals[ii])), 2)\n",
        "print(\"In Sample Error Rate = \" + str(error))"
      ],
      "execution_count": 65,
      "outputs": [
        {
          "output_type": "stream",
          "text": [
            "--2019-09-11 22:09:13--  https://raw.githubusercontent.com/bcaffo/ds4bme_intro/master/data/kirby21.csv\n",
            "Resolving raw.githubusercontent.com (raw.githubusercontent.com)... 151.101.0.133, 151.101.64.133, 151.101.128.133, ...\n",
            "Connecting to raw.githubusercontent.com (raw.githubusercontent.com)|151.101.0.133|:443... connected.\n",
            "HTTP request sent, awaiting response... 200 OK\n",
            "Length: 1611966 (1.5M) [text/plain]\n",
            "Saving to: ‘kirby21.csv.50’\n",
            "\n",
            "\rkirby21.csv.50        0%[                    ]       0  --.-KB/s               \rkirby21.csv.50      100%[===================>]   1.54M  --.-KB/s    in 0.07s   \n",
            "\n",
            "2019-09-11 22:09:13 (21.3 MB/s) - ‘kirby21.csv.50’ saved [1611966/1611966]\n",
            "\n",
            "LinregressResult(slope=1.0675677731655153, intercept=-694.180922147847, rvalue=0.9627048718978265, pvalue=1.157832145522277e-11, stderr=0.07071630900773986)\n",
            "Beta1 = 1.0675677731655158\n",
            "Beta0 = -694.1809221478507\n",
            "In Sample Error Rate = 832740.3005383236\n"
          ],
          "name": "stdout"
        },
        {
          "output_type": "display_data",
          "data": {
            "image/png": "[encoded data removed]",
            "text/plain": [
              "<Figure size 432x288 with 1 Axes>"
            ]
          },
          "metadata": {
            "tags": []
          }
        }
      ]
    },
    {
      "cell_type": "markdown",
      "metadata": {
        "id": "AWRe3j74SROH",
        "colab_type": "text"
      },
      "source": [
        "Question 3:\n",
        "\n",
        "I want to compare the transfer spending of european soccer clubs to the amount of games they will win in the upcoming season. I want to use the data from the previous season to create a regression fit, and use that data to predict the amount of wins from this season.\n",
        "\n",
        "Link to Transfer \n",
        "Data:\n",
        "\n",
        "https://github.com/ewenme/transfers/blob/master/data/2018/english_premier_league.csv\n",
        "\n",
        "https://github.com/ewenme/transfers/blob/master/data/2019/english_premier_league.csv"
      ]
    }
  ]
}